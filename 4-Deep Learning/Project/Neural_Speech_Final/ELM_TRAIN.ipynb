{
 "cells": [
  {
   "cell_type": "code",
   "execution_count": 1,
   "metadata": {
    "collapsed": true
   },
   "outputs": [],
   "source": [
    "# ELM ON OTHER CLASSES\n",
    "\n",
    "import os\n",
    "import numpy as np\n",
    "import matplotlib.pyplot as plt\n",
    "from matplotlib import cm\n",
    "import matplotlib.patches as mpatches\n",
    "import tensorflow as tf\n",
    "from random import shuffle\n",
    "import librosa\n",
    "import pickle\n"
   ]
  },
  {
   "cell_type": "code",
   "execution_count": 2,
   "metadata": {},
   "outputs": [
    {
     "name": "stdout",
     "output_type": "stream",
     "text": [
      "training samples\n",
      "19860\n",
      "validation samples\n",
      "3504\n"
     ]
    }
   ],
   "source": [
    "# LOAD PROCESSED DATA\n",
    "ELM_Training_Data, ELM_Training_Label = pickle.load(open('preprocessedAudio_Training_CIFAR.p', mode='rb'))\n",
    "ELM_Validation_Data, ELM_Validation_Label = pickle.load(open('preprocessedAudio_Validation_CIFAR.p', mode='rb'))\n",
    "numberOfClasses = len(ELM_Training_Label[0])\n",
    "print(\"training samples\")\n",
    "print(len(ELM_Training_Data))\n",
    "print(\"validation samples\")\n",
    "print(len(ELM_Validation_Data))"
   ]
  },
  {
   "cell_type": "code",
   "execution_count": 3,
   "metadata": {},
   "outputs": [
    {
     "name": "stdout",
     "output_type": "stream",
     "text": [
      "training samples\n",
      "7546\n",
      "validation samples\n",
      "1331\n"
     ]
    },
    {
     "data": {
      "text/plain": [
       "['7.3549%',\n",
       " '7.6332%',\n",
       " '6.9706%',\n",
       " '7.3019%',\n",
       " '10.8004%',\n",
       " '7.5934%',\n",
       " '7.2356%',\n",
       " '10.1378%',\n",
       " '9.9258%',\n",
       " '9.8860%',\n",
       " '7.5802%',\n",
       " '7.5802%']"
      ]
     },
     "execution_count": 3,
     "metadata": {},
     "output_type": "execute_result"
    }
   ],
   "source": [
    "# Remove part of data\n",
    "perc = 0.38\n",
    "newTrain = int(len(ELM_Training_Data) * perc)\n",
    "newValid = int(len(ELM_Validation_Data) * perc)\n",
    "\n",
    "ELM_Training_Data, ELM_Training_Label = ELM_Training_Data[:newTrain],ELM_Training_Label[:newTrain]\n",
    "ELM_Validation_Data, ELM_Validation_Label = ELM_Validation_Data[:newValid],ELM_Validation_Label[:newValid]\n",
    "numberOfClasses = len(ELM_Training_Label[0])\n",
    "print(\"training samples\")\n",
    "print(len(ELM_Training_Data))\n",
    "print(\"validation samples\")\n",
    "print(len(ELM_Validation_Data))\n",
    "\n",
    "# Get the total number of classes from cut data\n",
    "newPercData = np.divide(np.sum(ELM_Training_Label, axis=0),len(ELM_Training_Label))*100\n",
    "['{:.4f}%'.format(i) for i in newPercData] "
   ]
  },
  {
   "cell_type": "code",
   "execution_count": 4,
   "metadata": {},
   "outputs": [
    {
     "name": "stdout",
     "output_type": "stream",
     "text": [
      "INFO:tensorflow:Restoring parameters from ./audio_classificationMNIST\n",
      "FeedING through Conv\n",
      "Feed Validation done\n",
      "Feed Training done\n",
      "FeedING through Conv Finished! - Tesee1 and Tesse2 created\n"
     ]
    }
   ],
   "source": [
    "# LOAD THE PRETRAINED CNN AND FEED THE CIFAR DATA THROUGH\n",
    "import time\n",
    "tf.set_random_seed(2018)\n",
    "\n",
    "model_path = './audio_classificationMNIST'\n",
    "loaded_graph = tf.Graph()\n",
    "with tf.Session(graph=loaded_graph) as sess:\n",
    "    # Load model\n",
    "    loader = tf.train.import_meta_graph(model_path + '.meta')\n",
    "    loader.restore(sess, model_path)\n",
    "\n",
    "    # Get Tensors from loaded model\n",
    "    loaded_x = loaded_graph.get_tensor_by_name('x:0')\n",
    "    loaded_y = loaded_graph.get_tensor_by_name('y:0')\n",
    "    loaded_keep_prob = loaded_graph.get_tensor_by_name('keep_prob:0')\n",
    "    loaded_logits = loaded_graph.get_tensor_by_name('convLogits:0')\n",
    "    loaded_acc = loaded_graph.get_tensor_by_name('accuracy:0')\n",
    "\n",
    "\n",
    "    print(\"FeedING through Conv\")\n",
    "    tesee1 = sess.run(loaded_logits, feed_dict={loaded_x: ELM_Validation_Data, loaded_keep_prob: 1})\n",
    "    print(\"Feed Validation done\")\n",
    "    tesee2 = sess.run(loaded_logits, feed_dict={loaded_x: ELM_Training_Data, loaded_keep_prob: 1})\n",
    "    print(\"Feed Training done\")\n",
    "    print(\"FeedING through Conv Finished! - Tesee1 and Tesse2 created\")\n",
    "\n",
    "\n",
    "# CREATES GLOBAL VARIABLES TESEE1 (VALIDATION) AND TESEE2 (TRAINING)"
   ]
  },
  {
   "cell_type": "code",
   "execution_count": 5,
   "metadata": {
    "collapsed": true
   },
   "outputs": [],
   "source": [
    "# CREATE THE ELM CLASS THAT IS GOING TO BE INSTANTIATED\n",
    "# CLASS Credited to user Otenim https://github.com/otenim/TensorFlow-OS-ELM\n",
    "\n",
    "# NOTE: This class was pretty much similar to The one Carl Ridnert wrote in our initial implementation.\n",
    "# Our code received the same accuracy as this one, however it took around 50 seconds instead of 1 or 2.\n",
    "# The reason for that was because our knowledge of Tensorflow was limitied and initialisation of variables\n",
    "# had great effect on our training time.\n",
    "\n",
    "class OS_ELM(object):\n",
    "\n",
    "    def __init__(\n",
    "        self, n_input_nodes, n_hidden_nodes, n_output_nodes, name=None):\n",
    "\n",
    "        if name == None:\n",
    "            self.name = 'model'\n",
    "        else:\n",
    "            self.name = name\n",
    "\n",
    "        self.__sess = tf.Session()\n",
    "        self.__n_input_nodes = n_input_nodes\n",
    "        self.__n_hidden_nodes = n_hidden_nodes\n",
    "        self.__n_output_nodes = n_output_nodes\n",
    "        self.__activation = tf.nn.sigmoid\n",
    "        self.__lossfun = tf.losses.mean_squared_error\n",
    "\n",
    "        self.__is_finished_init_train = tf.get_variable(\n",
    "            'is_finished_init_train',\n",
    "            shape=[],\n",
    "            dtype=bool,\n",
    "            initializer=tf.constant_initializer(False),\n",
    "        )\n",
    "        self.__x = tf.placeholder(tf.float32, shape=(None, self.__n_input_nodes), name='x')\n",
    "        self.__t = tf.placeholder(tf.float32, shape=(None, self.__n_output_nodes), name='t')\n",
    "        self.__alpha = tf.get_variable(\n",
    "            'alpha',\n",
    "            shape=[self.__n_input_nodes, self.__n_hidden_nodes],\n",
    "            initializer=tf.random_uniform_initializer(-1,1),\n",
    "            trainable=False,\n",
    "        )\n",
    "        self.__bias = tf.get_variable(\n",
    "            'bias',\n",
    "            shape=[self.__n_hidden_nodes],\n",
    "            initializer=tf.random_uniform_initializer(-1,1),\n",
    "            trainable=False,\n",
    "        )\n",
    "        self.__beta = tf.get_variable(\n",
    "            'beta',\n",
    "            shape=[self.__n_hidden_nodes, self.__n_output_nodes],\n",
    "            initializer=tf.zeros_initializer(),\n",
    "            trainable=False,\n",
    "        )\n",
    "        self.__p = tf.get_variable(\n",
    "            'p',\n",
    "            shape=[self.__n_hidden_nodes, self.__n_hidden_nodes],\n",
    "            initializer=tf.zeros_initializer(),\n",
    "            trainable=False,\n",
    "        )\n",
    "\n",
    "        # Finish initial training phase\n",
    "        self.__finish_init_train = tf.assign(self.__is_finished_init_train, True)\n",
    "        # Predict\n",
    "        self.__predict = tf.matmul(self.__activation(tf.matmul(self.__x, self.__alpha) + self.__bias), self.__beta)\n",
    "        # Loss\n",
    "        self.__loss = self.__lossfun(self.__t, self.__predict)\n",
    "        # Accuracy\n",
    "        self.__accuracy = tf.reduce_mean(tf.cast(tf.equal(tf.argmax(self.__predict, 1), tf.argmax(self.__t, 1)), tf.float32))\n",
    "        # Initial training phase\n",
    "        self.__init_train = self.__build_init_train_graph()\n",
    "        # Initialize variables\n",
    "        self.__sess.run(tf.global_variables_initializer())\n",
    "\n",
    "    def predict(self, x):\n",
    "        return self.__sess.run(self.__predict, feed_dict={self.__x: x})\n",
    "\n",
    "    def evaluate(self, x, t, metrics=['loss']):\n",
    "        met = []\n",
    "        for m in metrics:\n",
    "            if m == 'loss':\n",
    "                met.append(self.__loss)\n",
    "            elif m == 'accuracy':\n",
    "                met.append(self.__accuracy)\n",
    "            else:\n",
    "                return ValueError(\n",
    "                    'an unknown metric \\'%s\\' was given.' % m\n",
    "                )\n",
    "        ret = self.__sess.run(met, feed_dict={self.__x: x, self.__t: t})\n",
    "        return ret\n",
    "\n",
    "    def init_train(self, x, t):\n",
    "        self.__sess.run(self.__init_train, feed_dict={self.__x: x, self.__t: t})\n",
    "        self.__sess.run(self.__finish_init_train)\n",
    "\n",
    "    def __build_init_train_graph(self):\n",
    "        H = self.__activation(tf.matmul(self.__x, self.__alpha) + self.__bias)\n",
    "        HT = tf.transpose(H)\n",
    "        HTH = tf.matmul(HT, H)\n",
    "        p = tf.assign(self.__p, tf.matrix_inverse(HTH))\n",
    "        pHT = tf.matmul(p, HT)\n",
    "        pHTt = tf.matmul(pHT, self.__t)\n",
    "        init_train = tf.assign(self.__beta, pHTt)\n",
    "        return init_train\n",
    "\n",
    "    def initialize_variables(self):\n",
    "        for var in [self.__alpha, self.__bias, self.__beta, self.__p, self.__is_finished_init_train]:\n",
    "            self.__sess.run(var.initializer)"
   ]
  },
  {
   "cell_type": "code",
   "execution_count": 6,
   "metadata": {},
   "outputs": [
    {
     "name": "stdout",
     "output_type": "stream",
     "text": [
      "Starting ELM with hidden 750\n",
      "Validation Before Loss: 0.083333, Accuracy: 0.075131\n",
      "Training done - took 1.5356082916259766 seconds\n",
      "Training Before Loss: 0.035868, Accuracy: 0.832759\n",
      "Validation After Loss: 0.042997, Accuracy: 0.768595\n"
     ]
    }
   ],
   "source": [
    "# FEED THE DATA THROUGH MLP WITH 750 NODES\n",
    "tf.reset_default_graph()\n",
    "n_input_nodes = np.shape(tesee1)[1]\n",
    "n_hidden_nodes = 750\n",
    "n_output_nodes = numberOfClasses\n",
    "print(\"Starting ELM with hidden \" + str(n_hidden_nodes)) #str(hidden_num_check[i]))\n",
    "\n",
    "os_elm = OS_ELM(\n",
    "    n_input_nodes=n_input_nodes,\n",
    "    n_hidden_nodes=n_hidden_nodes,\n",
    "    n_output_nodes=n_output_nodes\n",
    ")\n",
    "\n",
    "[loss, accuracy] = os_elm.evaluate(tesee1,  ELM_Validation_Label, metrics=['loss', 'accuracy'])\n",
    "print('Validation Before Loss: %f, Accuracy: %f' % (loss, accuracy))\n",
    "\n",
    "start_time = time.time()\n",
    "os_elm.init_train(tesee2, ELM_Training_Label)\n",
    "print(\"Training done - took %s seconds\" % (time.time() - start_time)) \n",
    "[loss, accuracy] = os_elm.evaluate(tesee2,  ELM_Training_Label, metrics=['loss', 'accuracy'])\n",
    "print('Training Before Loss: %f, Accuracy: %f' % (loss, accuracy))\n",
    "\n",
    "[loss, accuracy] = os_elm.evaluate(tesee1,  ELM_Validation_Label, metrics=['loss', 'accuracy'])\n",
    "print('Validation After Loss: %f, Accuracy: %f' % (loss, accuracy))\n"
   ]
  },
  {
   "cell_type": "code",
   "execution_count": null,
   "metadata": {
    "collapsed": true
   },
   "outputs": [],
   "source": [
    "# FIND THE OPTIMAL NUMBER OF NODES FOR HIDDEN LAYER\n",
    "hidden_num_check = [1,10,20,30,40,50,60,70,80,90,100, 250, 500, 750, 1000, 1100, 1250, 1500, 1750]\n",
    "for i in range(len(hidden_num_check)):\n",
    "    \n",
    "    tf.reset_default_graph()\n",
    "\n",
    "    n_input_nodes = np.shape(tesee1)[1]\n",
    "    n_hidden_nodes = hidden_num_check[i]\n",
    "    n_output_nodes = numberOfClasses\n",
    "    print(\"Starting ELM with hidden \" + str(n_hidden_nodes)) #str(hidden_num_check[i]))\n",
    "\n",
    "    os_elm = OS_ELM(\n",
    "        n_input_nodes=n_input_nodes,\n",
    "        n_hidden_nodes=n_hidden_nodes,\n",
    "        n_output_nodes=n_output_nodes\n",
    "    )\n",
    "\n",
    "    [loss, accuracy] = os_elm.evaluate(tesee1,  ELM_Validation_Label, metrics=['loss', 'accuracy'])\n",
    "    print('Validation Before Loss: %f, Accuracy: %f' % (loss, accuracy))\n",
    "\n",
    "    start_time = time.time()\n",
    "    os_elm.init_train(tesee2, ELM_Training_Label)\n",
    "    print(\"Training done - took %s seconds\" % (time.time() - start_time)) \n",
    "    [loss, accuracy] = os_elm.evaluate(tesee2,  ELM_Training_Label, metrics=['loss', 'accuracy'])\n",
    "    print('Training Before Loss: %f, Accuracy: %f' % (loss, accuracy))\n",
    "\n",
    "    [loss, accuracy] = os_elm.evaluate(tesee1,  ELM_Validation_Label, metrics=['loss', 'accuracy'])\n",
    "    print('Validation After Loss: %f, Accuracy: %f' % (loss, accuracy))\n"
   ]
  },
  {
   "cell_type": "code",
   "execution_count": 7,
   "metadata": {
    "collapsed": true
   },
   "outputs": [],
   "source": [
    "# STRUCTURE FULLY CONNECTED LAYER\n",
    "def fcl(inputTensor, outputNodes):\n",
    "    # He initialisation\n",
    "    inputNodes = int(inputTensor.shape[1])\n",
    "    # HE INITIALISATION NOT USED\n",
    "    sig = 0.05 #np.sqrt(2/inputNodes)\n",
    "    # CREATE WEIGHTS\n",
    "    weights = tf.Variable(tf.truncated_normal([inputNodes, outputNodes], stddev=sig))\n",
    "    # CREATE BIAS\n",
    "    bias = tf.Variable(tf.zeros([outputNodes]))\n",
    "    # MULTIPLY INPUT BY WEIGHTS AND ADD BIAS\n",
    "    inputTensor = tf.add(tf.matmul(inputTensor, weights), bias)\n",
    "    # RETURN ACTIVATION AS RELU\n",
    "    return tf.nn.relu(inputTensor)"
   ]
  },
  {
   "cell_type": "code",
   "execution_count": 8,
   "metadata": {
    "collapsed": true
   },
   "outputs": [],
   "source": [
    "# STRUCTURE OUTPUT LAYER - THIS IS NEEDED CAUSE LAST LAYER IS SOFTMAX ACTIVATION\n",
    "def output(inputTensor, outputNodes):\n",
    "    inputNodes = int(inputTensor.shape[1])\n",
    "    # CREATE WEIGHTS\n",
    "    weights = tf.Variable(tf.truncated_normal([inputNodes, outputNodes], stddev=0.05))\n",
    "    # CREATE BIAS\n",
    "    bias = tf.Variable(tf.zeros([outputNodes]))\n",
    "    # RETURN MULTIPLIED WEIGHTS, INPUT AND ADDED BIAS\n",
    "    return tf.add(tf.matmul(inputTensor, weights), bias)"
   ]
  },
  {
   "cell_type": "code",
   "execution_count": 9,
   "metadata": {
    "collapsed": true
   },
   "outputs": [],
   "source": [
    "# FLATTEN THE OUTPUT OF THE CONV NET TO GET FEATURES AS 1D ARRAY\n",
    "def dense(inputTensor):\n",
    "    inputShape = inputTensor.get_shape().as_list()\n",
    "    return tf.reshape(inputTensor, [-1, inputShape[1] * inputShape[2] * inputShape[3]])"
   ]
  },
  {
   "cell_type": "code",
   "execution_count": 10,
   "metadata": {
    "collapsed": true
   },
   "outputs": [],
   "source": [
    "# CREATE THE MLP STRUCTURE\n",
    "def mlp(inputTensor, keep_prop):\n",
    "    print(\"MLP\")\n",
    "    inputTensor = fcl(inputTensor, 1024)\n",
    "    inputTensor = tf.nn.dropout(inputTensor, keep_prob)\n",
    "    print(inputTensor.shape)\n",
    "    inputTensor = fcl(inputTensor, 1024)\n",
    "    inputTensor = tf.nn.dropout(inputTensor, keep_prob)\n",
    "    print(inputTensor.shape)\n",
    "    # RETURN OUTPUT OF MLP\n",
    "    return output(inputTensor, numberOfClasses)"
   ]
  },
  {
   "cell_type": "code",
   "execution_count": 11,
   "metadata": {},
   "outputs": [
    {
     "name": "stdout",
     "output_type": "stream",
     "text": [
      "MLP\n",
      "(?, 1024)\n",
      "(?, 1024)\n"
     ]
    }
   ],
   "source": [
    "# TRAIN THE MLP NOW\n",
    "# RESET GRAPH\n",
    "tf.reset_default_graph()\n",
    "\n",
    "epochs = 5\n",
    "keep_probability = 0.5\n",
    "\n",
    "x2 = tf.placeholder(tf.float32, [None, np.shape(tesee1)[1]], name=\"x\")\n",
    "y2 = tf.placeholder(tf.float32, [None, numberOfClasses], name=\"y\")\n",
    "keep_prob = tf.placeholder(tf.float32, name=\"keep_prob\")\n",
    "# X2 = InputData -> Conv\n",
    "mlp_logit2 = mlp(x2, keep_prob)\n",
    "mlp_logit2 = tf.identity(mlp_logit2, name='mlpFinal')\n",
    "\n",
    "cost2 = tf.reduce_mean(tf.nn.softmax_cross_entropy_with_logits(logits=mlp_logit2, labels=y2))\n",
    "optimizer2 = tf.train.AdamOptimizer().minimize(cost2)\n",
    "correct_pred2 = tf.equal(tf.argmax(mlp_logit2, 1), tf.argmax(y2, 1))\n",
    "accuracy2 = tf.reduce_mean(tf.cast(correct_pred2, tf.float32), name='accuracy')\n"
   ]
  },
  {
   "cell_type": "code",
   "execution_count": 15,
   "metadata": {},
   "outputs": [
    {
     "name": "stdout",
     "output_type": "stream",
     "text": [
      "Start Training\n",
      "Start Epoch 1\n",
      "Loss:   1.1173, Training Accuracy: 0.672560\n",
      "Epoch 1 - took 10.089431047439575 seconds\n",
      "Training APS 6.66598446635\n",
      "Validation APS 7.49757839698\n",
      "Loss:   0.7285, Validation Accuracy: 0.756463\n",
      "Epoch 1 done\n",
      "Start Epoch 2\n",
      "Loss:   0.6250, Training Accuracy: 0.805121\n",
      "Epoch 2 - took 19.603026628494263 seconds\n",
      "Training APS 4.10712738179\n",
      "Validation APS 3.96898090427\n",
      "Loss:   0.6623, Validation Accuracy: 0.778040\n",
      "Epoch 2 done\n",
      "Start Epoch 3\n",
      "Loss:   0.4985, Training Accuracy: 0.837458\n",
      "Epoch 3 - took 29.164610862731934 seconds\n",
      "Training APS 2.87148694081\n",
      "Validation APS 2.72773328198\n",
      "Loss:   0.6439, Validation Accuracy: 0.795533\n",
      "Epoch 3 done\n",
      "Start Epoch 4\n",
      "Loss:   0.4097, Training Accuracy: 0.867265\n",
      "Epoch 4 - took 38.79417610168457 seconds\n",
      "Training APS 2.23555494684\n",
      "Validation APS 2.09092672812\n",
      "Loss:   0.6109, Validation Accuracy: 0.811158\n",
      "Epoch 4 done\n",
      "Start Epoch 5\n",
      "Loss:   0.3336, Training Accuracy: 0.892570\n",
      "Epoch 5 - took 48.355759620666504 seconds\n",
      "Training APS 1.84584037443\n",
      "Validation APS 1.66209222475\n",
      "Loss:   0.6205, Validation Accuracy: 0.803717\n",
      "Epoch 5 done\n",
      "Training done - took 48.355759620666504 seconds\n"
     ]
    }
   ],
   "source": [
    "# TRAIN THE MLP\n",
    "import time\n",
    "start_time = time.time()\n",
    "\n",
    "print(\"Start Training\")\n",
    "# LR IS DEFAULT ADAM - learning_rate=0.001\n",
    "\n",
    "trainCost = []\n",
    "trainAcc = []\n",
    "validCost = []\n",
    "validAcc = []\n",
    "\n",
    "batch_size = 64\n",
    "nOfBatches_Train = int(len(tesee2)/batch_size)\n",
    "nOfBatches_Valid = int(len(tesee1)/batch_size)\n",
    "\n",
    "with tf.Session() as sess:\n",
    "    # Initializing the variables\n",
    "    sess.run(tf.global_variables_initializer())\n",
    "    \n",
    "    data = tesee2\n",
    "    targetVector = ELM_Training_Label\n",
    "    \n",
    "    dataVal = tesee1\n",
    "    targetVectorVal = ELM_Validation_Label\n",
    "    trainBatch = nOfBatches_Train+1\n",
    "    validBatch = nOfBatches_Valid+1\n",
    "    for epoch in range(1,epochs+1):\n",
    "        print('Start Epoch ' + str(epoch))\n",
    "        \n",
    "        # TRAIN \n",
    "        avgLossHolder = 0\n",
    "        avgAccHolder = 0\n",
    "        \n",
    "        for i in range(trainBatch): \n",
    "            batch_x = data[i*batch_size:(i+1)*batch_size]\n",
    "            batch_y = targetVector[i*batch_size:(i+1)*batch_size]\n",
    "\n",
    "            # run optimization op (backprop)\n",
    "            sess.run(optimizer2, feed_dict={x2: batch_x, y2: batch_y, keep_prob: keep_probability})\n",
    "            currTrainLoss, currTrainAcc = sess.run([cost2,accuracy2], feed_dict={x2: batch_x, y2: batch_y, keep_prob: 1.})\n",
    "            avgLossHolder += currTrainLoss\n",
    "            avgAccHolder += currTrainAcc\n",
    "        \n",
    "        avgLossHolder /= trainBatch\n",
    "        avgAccHolder /= trainBatch\n",
    "        trainCost.append(avgLossHolder)\n",
    "        trainAcc.append(avgAccHolder)\n",
    "        print('Loss: {:>8.4f}, Training Accuracy: {:>8.6f}'.format(avgLossHolder, avgAccHolder))\n",
    "        \n",
    "        accTrainAPS = avgAccHolder\n",
    "        # VALIDATION\n",
    "        avgLossHolder = 0\n",
    "        avgAccHolder = 0\n",
    "\n",
    "        for i in range(validBatch): \n",
    "            batch_x = dataVal[i*batch_size:(i+1)*batch_size]\n",
    "            batch_y = targetVectorVal[i*batch_size:(i+1)*batch_size]\n",
    "\n",
    "            currValidLoss, currValidAcc = sess.run([cost2,accuracy2], feed_dict={x2: batch_x, y2: batch_y, keep_prob: 1.})\n",
    "            avgLossHolder += currValidLoss\n",
    "            avgAccHolder += currValidAcc\n",
    "        \n",
    "        avgLossHolder /= validBatch\n",
    "        avgAccHolder /= validBatch\n",
    "        validCost.append(avgLossHolder)\n",
    "        validAcc.append(avgAccHolder)\n",
    "        estTime = time.time() - start_time\n",
    "        print(\"Epoch \"+str(epoch)+\" - took %s seconds\" % (estTime))    \n",
    "        print(\"Training APS \" + str(accTrainAPS/estTime * 100))\n",
    "        print(\"Validation APS \" + str(avgAccHolder/estTime * 100))\n",
    "        \n",
    "        print('Loss: {:>8.4f}, Validation Accuracy: {:>8.6f}'.format(avgLossHolder, avgAccHolder))\n",
    "        print('Epoch ' + str(epoch) + ' done')\n",
    "    print(\"Training done - took %s seconds\" % (time.time() - start_time))    \n",
    "    # Save Model\n",
    "    saver = tf.train.Saver()\n",
    "    save_path = saver.save(sess, './audio_classification_FINAL')\n",
    " "
   ]
  },
  {
   "cell_type": "code",
   "execution_count": 13,
   "metadata": {},
   "outputs": [
    {
     "data": {
      "image/png": "[encoded data removed]",
      "text/plain": [
       "<matplotlib.figure.Figure at 0x20edde0c9e8>"
      ]
     },
     "metadata": {},
     "output_type": "display_data"
    },
    {
     "data": {
      "image/png": "[encoded data removed]",
      "text/plain": [
       "<matplotlib.figure.Figure at 0x20ede7a5588>"
      ]
     },
     "metadata": {},
     "output_type": "display_data"
    }
   ],
   "source": [
    "# PLOT COST AND ACCURACY OF MODEL\n",
    "# COST\n",
    "plt.figure(1)\n",
    "plt.plot(trainCost, color='g', alpha=1)\n",
    "plt.plot(validCost, color='r', alpha=1)\n",
    "plt.title('Model Loss')\n",
    "green = mpatches.Patch(color='green', label='Training Loss')\n",
    "red = mpatches.Patch(color='red', label='Validation Loss')\n",
    "plt.legend(handles=[green,red])\n",
    "plt.show()\n",
    "# ACCURACY\n",
    "plt.figure(2)\n",
    "plt.plot(trainAcc, color='b', alpha=1)\n",
    "plt.plot(validAcc, color='orange', alpha=1)\n",
    "plt.title('Model Accuracy')\n",
    "blue = mpatches.Patch(color='b', label='Training Accuracy')\n",
    "orange = mpatches.Patch(color='orange', label='Validation Accuracy')\n",
    "plt.legend(handles=[blue,orange])\n",
    "plt.show()"
   ]
  }
 ],
 "metadata": {
  "kernelspec": {
   "display_name": "Python 3",
   "language": "python",
   "name": "python3"
  },
  "language_info": {
   "codemirror_mode": {
    "name": "ipython",
    "version": 3
   },
   "file_extension": ".py",
   "mimetype": "text/x-python",
   "name": "python",
   "nbconvert_exporter": "python",
   "pygments_lexer": "ipython3",
   "version": "3.5.4"
  },
  "latex_envs": {
   "LaTeX_envs_menu_present": true,
   "bibliofile": "biblio.bib",
   "cite_by": "apalike",
   "current_citInitial": 1,
   "eqLabelWithNumbers": true,
   "eqNumInitial": 1,
   "labels_anchors": false,
   "latex_user_defs": false,
   "report_style_numbering": false,
   "user_envs_cfg": false
  }
 },
 "nbformat": 4,
 "nbformat_minor": 2
}
