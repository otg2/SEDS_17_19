{
 "cells": [
  {
   "cell_type": "code",
   "execution_count": 3,
   "metadata": {},
   "outputs": [
    {
     "name": "stdout",
     "output_type": "stream",
     "text": [
      "INFO:tensorflow:Restoring parameters from C:\\Users\\ottarg\\Documents\\SWED_NEURAL\\fruits\\checkpoint_test\\model_final\n",
      "h_est: 0.99, v_est: -1.98\n"
     ]
    }
   ],
   "source": [
    "import tensorflow as tf  \n",
    "import numpy as np  \n",
    "import matplotlib.pyplot as plt \n",
    "import os\n",
    "tf.reset_default_graph()  \n",
    "imported_meta = tf.train.import_meta_graph(os.getcwd()+'\\\\checkpoint_test\\\\' +\"model_final.meta\")  \n",
    "\n",
    "with tf.Session() as sess:  \n",
    "    imported_meta.restore(sess, tf.train.latest_checkpoint(os.getcwd()+'\\\\checkpoint_test\\\\'))\n",
    "    h_est2 = sess.run('hor_estimate:0')\n",
    "    v_est2 = sess.run('ver_estimate:0')\n",
    "    print(\"h_est: %.2f, v_est: %.2f\" % (h_est2, v_est2))"
   ]
  },
  {
   "cell_type": "code",
   "execution_count": null,
   "metadata": {
    "collapsed": true
   },
   "outputs": [],
   "source": []
  }
 ],
 "metadata": {
  "kernelspec": {
   "display_name": "Python 3",
   "language": "python",
   "name": "python3"
  },
  "language_info": {
   "codemirror_mode": {
    "name": "ipython",
    "version": 3
   },
   "file_extension": ".py",
   "mimetype": "text/x-python",
   "name": "python",
   "nbconvert_exporter": "python",
   "pygments_lexer": "ipython3",
   "version": "3.5.4"
  }
 },
 "nbformat": 4,
 "nbformat_minor": 2
}
