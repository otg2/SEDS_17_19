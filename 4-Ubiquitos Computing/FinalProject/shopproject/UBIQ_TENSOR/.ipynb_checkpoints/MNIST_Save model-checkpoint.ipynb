{
 "cells": [
  {
   "cell_type": "code",
   "execution_count": 4,
   "metadata": {},
   "outputs": [],
   "source": [
    "import tensorflow as tf  \n",
    "import numpy as np  \n",
    "import matplotlib.pyplot as plt "
   ]
  },
  {
   "cell_type": "code",
   "execution_count": 16,
   "metadata": {},
   "outputs": [
    {
     "data": {
      "text/plain": [
       "<matplotlib.text.Text at 0x16f3d8d3400>"
      ]
     },
     "execution_count": 16,
     "metadata": {},
     "output_type": "execute_result"
    }
   ],
   "source": [
    "# Clear the current graph in each run, to avoid variable duplication\n",
    "tf.reset_default_graph()\n",
    "\n",
    "# Create placeholders for the x and y points\n",
    "X = tf.placeholder(\"float\")  \n",
    "Y = tf.placeholder(\"float\")\n",
    "\n",
    "# Initialize the two parameters that need to be learned\n",
    "h_est = tf.Variable(0.0, name='hor_estimate')  \n",
    "v_est = tf.Variable(0.0, name='ver_estimate')\n",
    "\n",
    "# y_est holds the estimated values on y-axis\n",
    "y_est = tf.square(X - h_est) + v_est\n",
    "\n",
    "# Define a cost function as the squared distance between Y and y_est\n",
    "cost = (tf.pow(Y - y_est, 2))\n",
    "\n",
    "# The training operation for minimizing the cost function. The\n",
    "# learning rate is 0.001\n",
    "trainop = tf.train.GradientDescentOptimizer(0.001).minimize(cost)  \n",
    "\n",
    "h = 1  \n",
    "v = -2\n",
    "\n",
    "# Generate training data with noise\n",
    "x_train = np.linspace(-2,4,201)  \n",
    "noise = np.random.randn(*x_train.shape) * 0.4  \n",
    "y_train = (x_train - h) ** 2 + v + noise\n",
    "\n",
    "# Visualize the data \n",
    "plt.rcParams['figure.figsize'] = (10, 6)  \n",
    "plt.scatter(x_train, y_train)  \n",
    "plt.xlabel('x_train')  \n",
    "plt.ylabel('y_train') \n"
   ]
  },
  {
   "cell_type": "code",
   "execution_count": 17,
   "metadata": {},
   "outputs": [
    {
     "name": "stdout",
     "output_type": "stream",
     "text": [
      "h_est = 0.99, v_est = -1.98\n"
     ]
    }
   ],
   "source": [
    "saver = tf.train.Saver()\n",
    "\n",
    "init = tf.global_variables_initializer()\n",
    "\n",
    "# Run a session. Go through 100 iterations to minimize the cost\n",
    "def train_graph():  \n",
    "    with tf.Session() as sess:\n",
    "        sess.run(init)\n",
    "        for i in range(100):\n",
    "            for (x, y) in zip(x_train, y_train):\n",
    "\n",
    "                # Feed actual data to the train operation\n",
    "                sess.run(trainop, feed_dict={X: x, Y: y})\n",
    "\n",
    "            # Create a checkpoint in every iteration\n",
    "            saver.save(sess, os.getcwd()+'\\\\checkpoint_test\\\\' +'model_iter', global_step=i)\n",
    "\n",
    "        # Save the final model\n",
    "        saver.save(sess, os.getcwd()+'\\\\checkpoint_test\\\\' + 'model_final')\n",
    "        h_ = sess.run(h_est)\n",
    "        v_ = sess.run(v_est)\n",
    "    return h_, v_\n",
    "\n",
    "result = train_graph()  \n",
    "print(\"h_est = %.2f, v_est = %.2f\" % result)  "
   ]
  },
  {
   "cell_type": "code",
   "execution_count": 18,
   "metadata": {},
   "outputs": [
    {
     "name": "stdout",
     "output_type": "stream",
     "text": [
      "INFO:tensorflow:Restoring parameters from C:\\Users\\ottarg\\Documents\\SWED_NEURAL\\fruits\\checkpoint_test\\model_final\n",
      "h_est: 0.99, v_est: -1.98\n"
     ]
    }
   ],
   "source": [
    "tf.reset_default_graph()  \n",
    "imported_meta = tf.train.import_meta_graph(os.getcwd()+'\\\\checkpoint_test\\\\' +\"model_final.meta\")  \n",
    "\n",
    "with tf.Session() as sess:  \n",
    "    imported_meta.restore(sess, tf.train.latest_checkpoint(os.getcwd()+'\\\\checkpoint_test\\\\'))\n",
    "    h_est2 = sess.run('hor_estimate:0')\n",
    "    v_est2 = sess.run('ver_estimate:0')\n",
    "    print(\"h_est: %.2f, v_est: %.2f\" % (h_est2, v_est2))"
   ]
  },
  {
   "cell_type": "code",
   "execution_count": null,
   "metadata": {
    "collapsed": true
   },
   "outputs": [],
   "source": []
  }
 ],
 "metadata": {
  "kernelspec": {
   "display_name": "Python 3",
   "language": "python",
   "name": "python3"
  },
  "language_info": {
   "codemirror_mode": {
    "name": "ipython",
    "version": 3
   },
   "file_extension": ".py",
   "mimetype": "text/x-python",
   "name": "python",
   "nbconvert_exporter": "python",
   "pygments_lexer": "ipython3",
   "version": "3.5.4"
  }
 },
 "nbformat": 4,
 "nbformat_minor": 2
}
